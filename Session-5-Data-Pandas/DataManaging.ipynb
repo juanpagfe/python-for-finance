{
 "cells": [
  {
   "cell_type": "markdown",
   "metadata": {},
   "source": [
    "\n",
    "# **Vaex vs Pandas**\n",
    "---\n",
    "<img src=\"http://www.doc.ic.ac.uk/~afd/images/logo_imperial_college_london.png\" align = \"left\" width=200>\n",
    " <br><br><br><br>\n",
    " \n",
    "- Copyright (c) Antoine Jacquier, 2020. All rights reserved\n",
    "\n",
    "- Author: Antoine Jacquier <a.jacquier@imperial.ac.uk>\n",
    "\n",
    "- Platform: Tested on Windows 10 with Python 3.7"
   ]
  },
  {
   "cell_type": "code",
   "execution_count": 1,
   "metadata": {},
   "outputs": [],
   "source": [
    "import pandas as pd\n",
    "import numpy as np\n",
    "import vaex\n",
    "import time\n",
    "import os"
   ]
  },
  {
   "cell_type": "markdown",
   "metadata": {},
   "source": [
    "*Big data is a field that treats ways to analyze, systematically extract information from, or otherwise, deal with data sets that are too large or complex to be dealt with by traditional data-processing application software.* (Wikipedia)"
   ]
  },
  {
   "cell_type": "markdown",
   "metadata": {},
   "source": [
    "## Vaex"
   ]
  },
  {
   "cell_type": "code",
   "execution_count": 2,
   "metadata": {},
   "outputs": [
    {
     "data": {
      "text/html": [
       "<div>\n",
       "<style scoped>\n",
       "    .dataframe tbody tr th:only-of-type {\n",
       "        vertical-align: middle;\n",
       "    }\n",
       "\n",
       "    .dataframe tbody tr th {\n",
       "        vertical-align: top;\n",
       "    }\n",
       "\n",
       "    .dataframe thead th {\n",
       "        text-align: right;\n",
       "    }\n",
       "</style>\n",
       "<table border=\"1\" class=\"dataframe\">\n",
       "  <thead>\n",
       "    <tr style=\"text-align: right;\">\n",
       "      <th></th>\n",
       "      <th>col0</th>\n",
       "      <th>col1</th>\n",
       "      <th>col2</th>\n",
       "      <th>col3</th>\n",
       "      <th>col4</th>\n",
       "      <th>col5</th>\n",
       "      <th>col6</th>\n",
       "      <th>col7</th>\n",
       "      <th>col8</th>\n",
       "      <th>col9</th>\n",
       "      <th>col10</th>\n",
       "      <th>col11</th>\n",
       "      <th>col12</th>\n",
       "      <th>col13</th>\n",
       "      <th>col14</th>\n",
       "      <th>col15</th>\n",
       "      <th>col16</th>\n",
       "      <th>col17</th>\n",
       "      <th>col18</th>\n",
       "      <th>col19</th>\n",
       "    </tr>\n",
       "  </thead>\n",
       "  <tbody>\n",
       "    <tr>\n",
       "      <th>0</th>\n",
       "      <td>26</td>\n",
       "      <td>13</td>\n",
       "      <td>54</td>\n",
       "      <td>27</td>\n",
       "      <td>79</td>\n",
       "      <td>22</td>\n",
       "      <td>82</td>\n",
       "      <td>48</td>\n",
       "      <td>75</td>\n",
       "      <td>6</td>\n",
       "      <td>79</td>\n",
       "      <td>21</td>\n",
       "      <td>5</td>\n",
       "      <td>39</td>\n",
       "      <td>33</td>\n",
       "      <td>57</td>\n",
       "      <td>1</td>\n",
       "      <td>37</td>\n",
       "      <td>45</td>\n",
       "      <td>89</td>\n",
       "    </tr>\n",
       "    <tr>\n",
       "      <th>1</th>\n",
       "      <td>15</td>\n",
       "      <td>94</td>\n",
       "      <td>97</td>\n",
       "      <td>61</td>\n",
       "      <td>64</td>\n",
       "      <td>89</td>\n",
       "      <td>89</td>\n",
       "      <td>74</td>\n",
       "      <td>98</td>\n",
       "      <td>83</td>\n",
       "      <td>29</td>\n",
       "      <td>25</td>\n",
       "      <td>8</td>\n",
       "      <td>86</td>\n",
       "      <td>98</td>\n",
       "      <td>2</td>\n",
       "      <td>73</td>\n",
       "      <td>16</td>\n",
       "      <td>77</td>\n",
       "      <td>1</td>\n",
       "    </tr>\n",
       "    <tr>\n",
       "      <th>2</th>\n",
       "      <td>51</td>\n",
       "      <td>12</td>\n",
       "      <td>22</td>\n",
       "      <td>56</td>\n",
       "      <td>23</td>\n",
       "      <td>13</td>\n",
       "      <td>42</td>\n",
       "      <td>33</td>\n",
       "      <td>97</td>\n",
       "      <td>45</td>\n",
       "      <td>74</td>\n",
       "      <td>90</td>\n",
       "      <td>1</td>\n",
       "      <td>41</td>\n",
       "      <td>44</td>\n",
       "      <td>96</td>\n",
       "      <td>23</td>\n",
       "      <td>81</td>\n",
       "      <td>48</td>\n",
       "      <td>74</td>\n",
       "    </tr>\n",
       "    <tr>\n",
       "      <th>3</th>\n",
       "      <td>22</td>\n",
       "      <td>95</td>\n",
       "      <td>57</td>\n",
       "      <td>30</td>\n",
       "      <td>12</td>\n",
       "      <td>92</td>\n",
       "      <td>42</td>\n",
       "      <td>55</td>\n",
       "      <td>7</td>\n",
       "      <td>60</td>\n",
       "      <td>55</td>\n",
       "      <td>89</td>\n",
       "      <td>94</td>\n",
       "      <td>0</td>\n",
       "      <td>45</td>\n",
       "      <td>76</td>\n",
       "      <td>99</td>\n",
       "      <td>49</td>\n",
       "      <td>4</td>\n",
       "      <td>33</td>\n",
       "    </tr>\n",
       "    <tr>\n",
       "      <th>4</th>\n",
       "      <td>72</td>\n",
       "      <td>76</td>\n",
       "      <td>69</td>\n",
       "      <td>15</td>\n",
       "      <td>27</td>\n",
       "      <td>48</td>\n",
       "      <td>26</td>\n",
       "      <td>10</td>\n",
       "      <td>63</td>\n",
       "      <td>69</td>\n",
       "      <td>30</td>\n",
       "      <td>0</td>\n",
       "      <td>51</td>\n",
       "      <td>59</td>\n",
       "      <td>42</td>\n",
       "      <td>62</td>\n",
       "      <td>87</td>\n",
       "      <td>1</td>\n",
       "      <td>26</td>\n",
       "      <td>54</td>\n",
       "    </tr>\n",
       "  </tbody>\n",
       "</table>\n",
       "</div>"
      ],
      "text/plain": [
       "   col0  col1  col2  col3  col4  col5  col6  col7  col8  col9  col10  col11  \\\n",
       "0    26    13    54    27    79    22    82    48    75     6     79     21   \n",
       "1    15    94    97    61    64    89    89    74    98    83     29     25   \n",
       "2    51    12    22    56    23    13    42    33    97    45     74     90   \n",
       "3    22    95    57    30    12    92    42    55     7    60     55     89   \n",
       "4    72    76    69    15    27    48    26    10    63    69     30      0   \n",
       "\n",
       "   col12  col13  col14  col15  col16  col17  col18  col19  \n",
       "0      5     39     33     57      1     37     45     89  \n",
       "1      8     86     98      2     73     16     77      1  \n",
       "2      1     41     44     96     23     81     48     74  \n",
       "3     94      0     45     76     99     49      4     33  \n",
       "4     51     59     42     62     87      1     26     54  "
      ]
     },
     "execution_count": 2,
     "metadata": {},
     "output_type": "execute_result"
    }
   ],
   "source": [
    "import vaex\n",
    "n_rows, n_cols = 10000000, 20\n",
    "### Note: this will create a csv file with size 0.5 GB.\n",
    "df = pd.DataFrame(np.random.randint(0, 100, size=(n_rows, n_cols)), columns=['col%d' % i for i in range(n_cols)])\n",
    "df.head()"
   ]
  },
  {
   "cell_type": "code",
   "execution_count": 3,
   "metadata": {},
   "outputs": [
    {
     "name": "stdout",
     "output_type": "stream",
     "text": [
      "<class 'pandas.core.frame.DataFrame'>\n",
      "RangeIndex: 10000000 entries, 0 to 9999999\n",
      "Data columns (total 20 columns):\n",
      " #   Column  Dtype\n",
      "---  ------  -----\n",
      " 0   col0    int32\n",
      " 1   col1    int32\n",
      " 2   col2    int32\n",
      " 3   col3    int32\n",
      " 4   col4    int32\n",
      " 5   col5    int32\n",
      " 6   col6    int32\n",
      " 7   col7    int32\n",
      " 8   col8    int32\n",
      " 9   col9    int32\n",
      " 10  col10   int32\n",
      " 11  col11   int32\n",
      " 12  col12   int32\n",
      " 13  col13   int32\n",
      " 14  col14   int32\n",
      " 15  col15   int32\n",
      " 16  col16   int32\n",
      " 17  col17   int32\n",
      " 18  col18   int32\n",
      " 19  col19   int32\n",
      "dtypes: int32(20)\n",
      "memory usage: 762.9 MB\n"
     ]
    }
   ],
   "source": [
    "df.info(memory_usage='deep')"
   ]
  },
  {
   "cell_type": "code",
   "execution_count": 7,
   "metadata": {},
   "outputs": [
    {
     "data": {
      "text/plain": [
       "<bound method DataFrame.info of          col0  col1  col2  col3  col4  col5  col6  col7  col8  col9  ...  \\\n",
       "0          26    13    54    27    79    22    82    48    75     6  ...   \n",
       "1          15    94    97    61    64    89    89    74    98    83  ...   \n",
       "2          51    12    22    56    23    13    42    33    97    45  ...   \n",
       "3          22    95    57    30    12    92    42    55     7    60  ...   \n",
       "4          72    76    69    15    27    48    26    10    63    69  ...   \n",
       "...       ...   ...   ...   ...   ...   ...   ...   ...   ...   ...  ...   \n",
       "9999995    55    97    46    14    96    46    83    55    34    56  ...   \n",
       "9999996    57    42     2    19    54    94    41    87    49    33  ...   \n",
       "9999997    76    33    27    96    32    26    32    54    57    75  ...   \n",
       "9999998     0    12    93    27    67    94    50    49     8    13  ...   \n",
       "9999999    57    72    11    53    30    77    85    63    64    17  ...   \n",
       "\n",
       "         col11  col12  col13  col14  col15  col16  col17  col18  col19  NewCol  \n",
       "0           21      5     39     33     57      1     37     45     89    52.0  \n",
       "1           25      8     86     98      2     73     16     77      1    30.0  \n",
       "2           90      1     41     44     96     23     81     48     74   102.0  \n",
       "3           89     94      0     45     76     99     49      4     33    44.0  \n",
       "4            0     51     59     42     62     87      1     26     54   144.0  \n",
       "...        ...    ...    ...    ...    ...    ...    ...    ...    ...     ...  \n",
       "9999995     13     45     16     63     59     86     17     40     20   110.0  \n",
       "9999996     72     77     99     55     35     89     30      5     27   114.0  \n",
       "9999997      5     13     36     54     52     53     83     16     68   152.0  \n",
       "9999998     52     18     92     65     11     66     27     83     52     0.0  \n",
       "9999999     89     55     31     10     30     52     31     83     95   114.0  \n",
       "\n",
       "[10000000 rows x 21 columns]>"
      ]
     },
     "execution_count": 7,
     "metadata": {},
     "output_type": "execute_result"
    }
   ],
   "source": [
    "df.info"
   ]
  },
  {
   "cell_type": "code",
   "execution_count": 4,
   "metadata": {},
   "outputs": [],
   "source": [
    "file_name = \"jackLargeFile\"\n",
    "file_name_csv = file_name + '.csv'\n",
    "df.to_csv(file_name_csv, index=False)"
   ]
  },
  {
   "cell_type": "code",
   "execution_count": 8,
   "metadata": {},
   "outputs": [],
   "source": [
    "dv = vaex.from_csv(file_name_csv, convert=True, chunk_size=5_000_000)\n",
    "## This is the vaex conversion function. It works for very large files, by splitting the latter into small chunks."
   ]
  },
  {
   "cell_type": "code",
   "execution_count": 9,
   "metadata": {},
   "outputs": [
    {
     "name": "stdout",
     "output_type": "stream",
     "text": [
      "<class 'vaex.hdf5.dataset.Hdf5MemoryMapped'>\n",
      "Size of the csv file:  589994744\n",
      "Size of the hdf5 file:  1600035456\n"
     ]
    }
   ],
   "source": [
    "print(type(dv))\n",
    "print(\"Size of the csv file: \", os.stat(file_name_csv).st_size)\n",
    "print(\"Size of the hdf5 file: \", os.stat(file_name_csv + '.hdf5').st_size)"
   ]
  },
  {
   "cell_type": "code",
   "execution_count": 10,
   "metadata": {},
   "outputs": [],
   "source": [
    "dv = vaex.open(file_name_csv + '.hdf5')"
   ]
  },
  {
   "cell_type": "code",
   "execution_count": 25,
   "metadata": {},
   "outputs": [
    {
     "name": "stdout",
     "output_type": "stream",
     "text": [
      "Sum:  494875833\n",
      "Computation time:  0.022  seconds\n"
     ]
    }
   ],
   "source": [
    "## Compute the sum over the first column using vaex\n",
    "t = time.time()\n",
    "suma = dv.col1.sum()\n",
    "t = time.time() - t\n",
    "print(\"Sum: \", suma)\n",
    "print(\"Computation time: \", np.round(t, 3), \" seconds\")"
   ]
  },
  {
   "cell_type": "code",
   "execution_count": 19,
   "metadata": {},
   "outputs": [
    {
     "name": "stdout",
     "output_type": "stream",
     "text": [
      "Sum:  494875833\n",
      "Computation time:  0.089  seconds\n"
     ]
    }
   ],
   "source": [
    "## Compute the sum over the first column using pandas\n",
    "t = time.time()\n",
    "suma = df.col1.sum()\n",
    "t = time.time() - t\n",
    "print(\"Sum: \", suma)\n",
    "print(\"Computation time: \", np.round(t, 3), \" seconds\")"
   ]
  },
  {
   "cell_type": "markdown",
   "metadata": {},
   "source": [
    "### Plotting with Vaex"
   ]
  },
  {
   "cell_type": "code",
   "execution_count": 26,
   "metadata": {},
   "outputs": [
    {
     "data": {
      "image/png": "[encoded data removed]",
      "text/plain": [
       "<Figure size 1120x560 with 1 Axes>"
      ]
     },
     "metadata": {},
     "output_type": "display_data"
    }
   ],
   "source": [
    "dv.plot1d(dv.col2, figsize=(14, 7));"
   ]
  },
  {
   "cell_type": "markdown",
   "metadata": {},
   "source": [
    "Creating new columns"
   ]
  },
  {
   "cell_type": "code",
   "execution_count": 27,
   "metadata": {},
   "outputs": [
    {
     "data": {
      "text/plain": [
       "Expression = col1_plus_col2\n",
       "Length: 10,000,000 dtype: int64 (column)\n",
       "----------------------------------------\n",
       "      0   67\n",
       "      1  191\n",
       "      2   34\n",
       "      3  152\n",
       "      4  145\n",
       "    ...     \n",
       "9999995  143\n",
       "9999996   44\n",
       "9999997   60\n",
       "9999998  105\n",
       "9999999   83"
      ]
     },
     "execution_count": 27,
     "metadata": {},
     "output_type": "execute_result"
    }
   ],
   "source": [
    "dv['col1_plus_col2'] = dv.col1 + dv.col2\n",
    "dv['col1_plus_col2']"
   ]
  },
  {
   "cell_type": "markdown",
   "metadata": {},
   "source": [
    "Filtering: Vaex does not create copy of the DataFrame when filtering the data"
   ]
  },
  {
   "cell_type": "code",
   "execution_count": 28,
   "metadata": {},
   "outputs": [
    {
     "data": {
      "text/html": [
       "<table>\n",
       "<thead>\n",
       "<tr><th>#                            </th><th style=\"text-align: right;\">  col0</th><th style=\"text-align: right;\">  col1</th><th style=\"text-align: right;\">  col2</th><th style=\"text-align: right;\">  col3</th><th style=\"text-align: right;\">  col4</th><th style=\"text-align: right;\">  col5</th><th style=\"text-align: right;\">  col6</th><th style=\"text-align: right;\">  col7</th><th style=\"text-align: right;\">  col8</th><th style=\"text-align: right;\">  col9</th><th style=\"text-align: right;\">  col10</th><th style=\"text-align: right;\">  col11</th><th style=\"text-align: right;\">  col12</th><th style=\"text-align: right;\">  col13</th><th style=\"text-align: right;\">  col14</th><th style=\"text-align: right;\">  col15</th><th style=\"text-align: right;\">  col16</th><th style=\"text-align: right;\">  col17</th><th style=\"text-align: right;\">  col18</th><th style=\"text-align: right;\">  col19</th><th style=\"text-align: right;\">  col1_plus_col2</th></tr>\n",
       "</thead>\n",
       "<tbody>\n",
       "<tr><td><i style='opacity: 0.6'>0</i></td><td style=\"text-align: right;\">    15</td><td style=\"text-align: right;\">    94</td><td style=\"text-align: right;\">    97</td><td style=\"text-align: right;\">    61</td><td style=\"text-align: right;\">    64</td><td style=\"text-align: right;\">    89</td><td style=\"text-align: right;\">    89</td><td style=\"text-align: right;\">    74</td><td style=\"text-align: right;\">    98</td><td style=\"text-align: right;\">    83</td><td style=\"text-align: right;\">     29</td><td style=\"text-align: right;\">     25</td><td style=\"text-align: right;\">      8</td><td style=\"text-align: right;\">     86</td><td style=\"text-align: right;\">     98</td><td style=\"text-align: right;\">      2</td><td style=\"text-align: right;\">     73</td><td style=\"text-align: right;\">     16</td><td style=\"text-align: right;\">     77</td><td style=\"text-align: right;\">      1</td><td style=\"text-align: right;\">             191</td></tr>\n",
       "<tr><td><i style='opacity: 0.6'>1</i></td><td style=\"text-align: right;\">    22</td><td style=\"text-align: right;\">    95</td><td style=\"text-align: right;\">    57</td><td style=\"text-align: right;\">    30</td><td style=\"text-align: right;\">    12</td><td style=\"text-align: right;\">    92</td><td style=\"text-align: right;\">    42</td><td style=\"text-align: right;\">    55</td><td style=\"text-align: right;\">     7</td><td style=\"text-align: right;\">    60</td><td style=\"text-align: right;\">     55</td><td style=\"text-align: right;\">     89</td><td style=\"text-align: right;\">     94</td><td style=\"text-align: right;\">      0</td><td style=\"text-align: right;\">     45</td><td style=\"text-align: right;\">     76</td><td style=\"text-align: right;\">     99</td><td style=\"text-align: right;\">     49</td><td style=\"text-align: right;\">      4</td><td style=\"text-align: right;\">     33</td><td style=\"text-align: right;\">             152</td></tr>\n",
       "<tr><td><i style='opacity: 0.6'>2</i></td><td style=\"text-align: right;\">     8</td><td style=\"text-align: right;\">    91</td><td style=\"text-align: right;\">    25</td><td style=\"text-align: right;\">     0</td><td style=\"text-align: right;\">     8</td><td style=\"text-align: right;\">    52</td><td style=\"text-align: right;\">    60</td><td style=\"text-align: right;\">    28</td><td style=\"text-align: right;\">    45</td><td style=\"text-align: right;\">    74</td><td style=\"text-align: right;\">     54</td><td style=\"text-align: right;\">     91</td><td style=\"text-align: right;\">     61</td><td style=\"text-align: right;\">     24</td><td style=\"text-align: right;\">     86</td><td style=\"text-align: right;\">     62</td><td style=\"text-align: right;\">     94</td><td style=\"text-align: right;\">     59</td><td style=\"text-align: right;\">     29</td><td style=\"text-align: right;\">     53</td><td style=\"text-align: right;\">             116</td></tr>\n",
       "<tr><td><i style='opacity: 0.6'>3</i></td><td style=\"text-align: right;\">    42</td><td style=\"text-align: right;\">    98</td><td style=\"text-align: right;\">    86</td><td style=\"text-align: right;\">    17</td><td style=\"text-align: right;\">    29</td><td style=\"text-align: right;\">    83</td><td style=\"text-align: right;\">     3</td><td style=\"text-align: right;\">     9</td><td style=\"text-align: right;\">    81</td><td style=\"text-align: right;\">    41</td><td style=\"text-align: right;\">     66</td><td style=\"text-align: right;\">     67</td><td style=\"text-align: right;\">     28</td><td style=\"text-align: right;\">     79</td><td style=\"text-align: right;\">     61</td><td style=\"text-align: right;\">     69</td><td style=\"text-align: right;\">     52</td><td style=\"text-align: right;\">     86</td><td style=\"text-align: right;\">     33</td><td style=\"text-align: right;\">     89</td><td style=\"text-align: right;\">             184</td></tr>\n",
       "<tr><td><i style='opacity: 0.6'>4</i></td><td style=\"text-align: right;\">    61</td><td style=\"text-align: right;\">    94</td><td style=\"text-align: right;\">    78</td><td style=\"text-align: right;\">    96</td><td style=\"text-align: right;\">    76</td><td style=\"text-align: right;\">    17</td><td style=\"text-align: right;\">    13</td><td style=\"text-align: right;\">    38</td><td style=\"text-align: right;\">    55</td><td style=\"text-align: right;\">     7</td><td style=\"text-align: right;\">     16</td><td style=\"text-align: right;\">     85</td><td style=\"text-align: right;\">     71</td><td style=\"text-align: right;\">     14</td><td style=\"text-align: right;\">     36</td><td style=\"text-align: right;\">     75</td><td style=\"text-align: right;\">     41</td><td style=\"text-align: right;\">     86</td><td style=\"text-align: right;\">     28</td><td style=\"text-align: right;\">      4</td><td style=\"text-align: right;\">             172</td></tr>\n",
       "<tr><td><i style='opacity: 0.6'>5</i></td><td style=\"text-align: right;\">    73</td><td style=\"text-align: right;\">    93</td><td style=\"text-align: right;\">    32</td><td style=\"text-align: right;\">    60</td><td style=\"text-align: right;\">    35</td><td style=\"text-align: right;\">    49</td><td style=\"text-align: right;\">    97</td><td style=\"text-align: right;\">    70</td><td style=\"text-align: right;\">    85</td><td style=\"text-align: right;\">    66</td><td style=\"text-align: right;\">      3</td><td style=\"text-align: right;\">     20</td><td style=\"text-align: right;\">     91</td><td style=\"text-align: right;\">     15</td><td style=\"text-align: right;\">      4</td><td style=\"text-align: right;\">     48</td><td style=\"text-align: right;\">     78</td><td style=\"text-align: right;\">     85</td><td style=\"text-align: right;\">     53</td><td style=\"text-align: right;\">     57</td><td style=\"text-align: right;\">             125</td></tr>\n",
       "<tr><td><i style='opacity: 0.6'>6</i></td><td style=\"text-align: right;\">    88</td><td style=\"text-align: right;\">    95</td><td style=\"text-align: right;\">    73</td><td style=\"text-align: right;\">    23</td><td style=\"text-align: right;\">    74</td><td style=\"text-align: right;\">    29</td><td style=\"text-align: right;\">    62</td><td style=\"text-align: right;\">    34</td><td style=\"text-align: right;\">    39</td><td style=\"text-align: right;\">    53</td><td style=\"text-align: right;\">     92</td><td style=\"text-align: right;\">     39</td><td style=\"text-align: right;\">     43</td><td style=\"text-align: right;\">     11</td><td style=\"text-align: right;\">     64</td><td style=\"text-align: right;\">     19</td><td style=\"text-align: right;\">     37</td><td style=\"text-align: right;\">     68</td><td style=\"text-align: right;\">     70</td><td style=\"text-align: right;\">     89</td><td style=\"text-align: right;\">             168</td></tr>\n",
       "<tr><td><i style='opacity: 0.6'>7</i></td><td style=\"text-align: right;\">    80</td><td style=\"text-align: right;\">    91</td><td style=\"text-align: right;\">    70</td><td style=\"text-align: right;\">    25</td><td style=\"text-align: right;\">     3</td><td style=\"text-align: right;\">    40</td><td style=\"text-align: right;\">    86</td><td style=\"text-align: right;\">    71</td><td style=\"text-align: right;\">    73</td><td style=\"text-align: right;\">    59</td><td style=\"text-align: right;\">     62</td><td style=\"text-align: right;\">      4</td><td style=\"text-align: right;\">     71</td><td style=\"text-align: right;\">     62</td><td style=\"text-align: right;\">     13</td><td style=\"text-align: right;\">     50</td><td style=\"text-align: right;\">     37</td><td style=\"text-align: right;\">     58</td><td style=\"text-align: right;\">     44</td><td style=\"text-align: right;\">     45</td><td style=\"text-align: right;\">             161</td></tr>\n",
       "<tr><td><i style='opacity: 0.6'>8</i></td><td style=\"text-align: right;\">    59</td><td style=\"text-align: right;\">    99</td><td style=\"text-align: right;\">    24</td><td style=\"text-align: right;\">    75</td><td style=\"text-align: right;\">     4</td><td style=\"text-align: right;\">    62</td><td style=\"text-align: right;\">    17</td><td style=\"text-align: right;\">    37</td><td style=\"text-align: right;\">    14</td><td style=\"text-align: right;\">    16</td><td style=\"text-align: right;\">     86</td><td style=\"text-align: right;\">     73</td><td style=\"text-align: right;\">     14</td><td style=\"text-align: right;\">     81</td><td style=\"text-align: right;\">     69</td><td style=\"text-align: right;\">     38</td><td style=\"text-align: right;\">     55</td><td style=\"text-align: right;\">     58</td><td style=\"text-align: right;\">     28</td><td style=\"text-align: right;\">     78</td><td style=\"text-align: right;\">             123</td></tr>\n",
       "<tr><td><i style='opacity: 0.6'>9</i></td><td style=\"text-align: right;\">    21</td><td style=\"text-align: right;\">    99</td><td style=\"text-align: right;\">    27</td><td style=\"text-align: right;\">    94</td><td style=\"text-align: right;\">    98</td><td style=\"text-align: right;\">    79</td><td style=\"text-align: right;\">    72</td><td style=\"text-align: right;\">    92</td><td style=\"text-align: right;\">    83</td><td style=\"text-align: right;\">     8</td><td style=\"text-align: right;\">     69</td><td style=\"text-align: right;\">     37</td><td style=\"text-align: right;\">     43</td><td style=\"text-align: right;\">     44</td><td style=\"text-align: right;\">     61</td><td style=\"text-align: right;\">     91</td><td style=\"text-align: right;\">      2</td><td style=\"text-align: right;\">     38</td><td style=\"text-align: right;\">     33</td><td style=\"text-align: right;\">     71</td><td style=\"text-align: right;\">             126</td></tr>\n",
       "</tbody>\n",
       "</table>"
      ],
      "text/plain": [
       "  #    col0    col1    col2    col3    col4    col5    col6    col7    col8    col9    col10    col11    col12    col13    col14    col15    col16    col17    col18    col19    col1_plus_col2\n",
       "  0      15      94      97      61      64      89      89      74      98      83       29       25        8       86       98        2       73       16       77        1               191\n",
       "  1      22      95      57      30      12      92      42      55       7      60       55       89       94        0       45       76       99       49        4       33               152\n",
       "  2       8      91      25       0       8      52      60      28      45      74       54       91       61       24       86       62       94       59       29       53               116\n",
       "  3      42      98      86      17      29      83       3       9      81      41       66       67       28       79       61       69       52       86       33       89               184\n",
       "  4      61      94      78      96      76      17      13      38      55       7       16       85       71       14       36       75       41       86       28        4               172\n",
       "  5      73      93      32      60      35      49      97      70      85      66        3       20       91       15        4       48       78       85       53       57               125\n",
       "  6      88      95      73      23      74      29      62      34      39      53       92       39       43       11       64       19       37       68       70       89               168\n",
       "  7      80      91      70      25       3      40      86      71      73      59       62        4       71       62       13       50       37       58       44       45               161\n",
       "  8      59      99      24      75       4      62      17      37      14      16       86       73       14       81       69       38       55       58       28       78               123\n",
       "  9      21      99      27      94      98      79      72      92      83       8       69       37       43       44       61       91        2       38       33       71               126"
      ]
     },
     "execution_count": 28,
     "metadata": {},
     "output_type": "execute_result"
    }
   ],
   "source": [
    "dvv = dv[dv.col1 > 90]\n",
    "dvv.head()"
   ]
  },
  {
   "cell_type": "markdown",
   "metadata": {},
   "source": [
    "### Aggregation"
   ]
  },
  {
   "cell_type": "code",
   "execution_count": 29,
   "metadata": {},
   "outputs": [],
   "source": [
    "dv['col1_50'] = dv.col1 >= 50\n",
    "## Binary columns"
   ]
  },
  {
   "cell_type": "code",
   "execution_count": 30,
   "metadata": {},
   "outputs": [
    {
     "data": {
      "text/html": [
       "<table>\n",
       "<thead>\n",
       "<tr><th>#                            </th><th>col1_50  </th><th style=\"text-align: right;\">   col3_sum</th></tr>\n",
       "</thead>\n",
       "<tbody>\n",
       "<tr><td><i style='opacity: 0.6'>0</i></td><td>False    </td><td style=\"text-align: right;\">2.47599e+08</td></tr>\n",
       "<tr><td><i style='opacity: 0.6'>1</i></td><td>True     </td><td style=\"text-align: right;\">2.47381e+08</td></tr>\n",
       "</tbody>\n",
       "</table>"
      ],
      "text/plain": [
       "  #  col1_50       col3_sum\n",
       "  0  False      2.47599e+08\n",
       "  1  True       2.47381e+08"
      ]
     },
     "execution_count": 30,
     "metadata": {},
     "output_type": "execute_result"
    }
   ],
   "source": [
    "dv_group = dv.groupby(dv['col1_50'], agg=vaex.agg.sum(dv['col3']))\n",
    "## groups data by col1_50 and calculates the sum of the col3 column.\n",
    "dv_group"
   ]
  },
  {
   "cell_type": "markdown",
   "metadata": {},
   "source": [
    "### Joining data"
   ]
  },
  {
   "cell_type": "code",
   "execution_count": 31,
   "metadata": {},
   "outputs": [],
   "source": [
    "dv_join = dv.join(dv_group, on='col1_50')"
   ]
  },
  {
   "cell_type": "code",
   "execution_count": 32,
   "metadata": {},
   "outputs": [
    {
     "data": {
      "text/html": [
       "<table>\n",
       "<thead>\n",
       "<tr><th>#                                    </th><th>col0  </th><th>col1  </th><th>col2  </th><th>col3  </th><th>col4  </th><th>col5  </th><th>col6  </th><th>col7  </th><th>col8  </th><th>col9  </th><th>col10  </th><th>col11  </th><th>col12  </th><th>col13  </th><th>col14  </th><th>col15  </th><th>col16  </th><th>col17  </th><th>col18  </th><th>col19  </th><th>col1_plus_col2  </th><th>col1_50  </th><th>col3_sum  </th></tr>\n",
       "</thead>\n",
       "<tbody>\n",
       "<tr><td><i style='opacity: 0.6'>0</i>        </td><td>26    </td><td>13    </td><td>54    </td><td>27    </td><td>79    </td><td>22    </td><td>82    </td><td>48    </td><td>75    </td><td>6     </td><td>79     </td><td>21     </td><td>5      </td><td>39     </td><td>33     </td><td>57     </td><td>1      </td><td>37     </td><td>45     </td><td>89     </td><td>67              </td><td>False    </td><td>247598672 </td></tr>\n",
       "<tr><td><i style='opacity: 0.6'>1</i>        </td><td>15    </td><td>94    </td><td>97    </td><td>61    </td><td>64    </td><td>89    </td><td>89    </td><td>74    </td><td>98    </td><td>83    </td><td>29     </td><td>25     </td><td>8      </td><td>86     </td><td>98     </td><td>2      </td><td>73     </td><td>16     </td><td>77     </td><td>1      </td><td>191             </td><td>True     </td><td>247380600 </td></tr>\n",
       "<tr><td><i style='opacity: 0.6'>2</i>        </td><td>51    </td><td>12    </td><td>22    </td><td>56    </td><td>23    </td><td>13    </td><td>42    </td><td>33    </td><td>97    </td><td>45    </td><td>74     </td><td>90     </td><td>1      </td><td>41     </td><td>44     </td><td>96     </td><td>23     </td><td>81     </td><td>48     </td><td>74     </td><td>34              </td><td>False    </td><td>247598672 </td></tr>\n",
       "<tr><td><i style='opacity: 0.6'>3</i>        </td><td>22    </td><td>95    </td><td>57    </td><td>30    </td><td>12    </td><td>92    </td><td>42    </td><td>55    </td><td>7     </td><td>60    </td><td>55     </td><td>89     </td><td>94     </td><td>0      </td><td>45     </td><td>76     </td><td>99     </td><td>49     </td><td>4      </td><td>33     </td><td>152             </td><td>True     </td><td>247380600 </td></tr>\n",
       "<tr><td><i style='opacity: 0.6'>4</i>        </td><td>72    </td><td>76    </td><td>69    </td><td>15    </td><td>27    </td><td>48    </td><td>26    </td><td>10    </td><td>63    </td><td>69    </td><td>30     </td><td>0      </td><td>51     </td><td>59     </td><td>42     </td><td>62     </td><td>87     </td><td>1      </td><td>26     </td><td>54     </td><td>145             </td><td>True     </td><td>247380600 </td></tr>\n",
       "<tr><td>...                                  </td><td>...   </td><td>...   </td><td>...   </td><td>...   </td><td>...   </td><td>...   </td><td>...   </td><td>...   </td><td>...   </td><td>...   </td><td>...    </td><td>...    </td><td>...    </td><td>...    </td><td>...    </td><td>...    </td><td>...    </td><td>...    </td><td>...    </td><td>...    </td><td>...             </td><td>...      </td><td>...       </td></tr>\n",
       "<tr><td><i style='opacity: 0.6'>9,999,995</i></td><td>55    </td><td>97    </td><td>46    </td><td>14    </td><td>96    </td><td>46    </td><td>83    </td><td>55    </td><td>34    </td><td>56    </td><td>74     </td><td>13     </td><td>45     </td><td>16     </td><td>63     </td><td>59     </td><td>86     </td><td>17     </td><td>40     </td><td>20     </td><td>143             </td><td>True     </td><td>247380600 </td></tr>\n",
       "<tr><td><i style='opacity: 0.6'>9,999,996</i></td><td>57    </td><td>42    </td><td>2     </td><td>19    </td><td>54    </td><td>94    </td><td>41    </td><td>87    </td><td>49    </td><td>33    </td><td>23     </td><td>72     </td><td>77     </td><td>99     </td><td>55     </td><td>35     </td><td>89     </td><td>30     </td><td>5      </td><td>27     </td><td>44              </td><td>False    </td><td>247598672 </td></tr>\n",
       "<tr><td><i style='opacity: 0.6'>9,999,997</i></td><td>76    </td><td>33    </td><td>27    </td><td>96    </td><td>32    </td><td>26    </td><td>32    </td><td>54    </td><td>57    </td><td>75    </td><td>90     </td><td>5      </td><td>13     </td><td>36     </td><td>54     </td><td>52     </td><td>53     </td><td>83     </td><td>16     </td><td>68     </td><td>60              </td><td>False    </td><td>247598672 </td></tr>\n",
       "<tr><td><i style='opacity: 0.6'>9,999,998</i></td><td>0     </td><td>12    </td><td>93    </td><td>27    </td><td>67    </td><td>94    </td><td>50    </td><td>49    </td><td>8     </td><td>13    </td><td>2      </td><td>52     </td><td>18     </td><td>92     </td><td>65     </td><td>11     </td><td>66     </td><td>27     </td><td>83     </td><td>52     </td><td>105             </td><td>False    </td><td>247598672 </td></tr>\n",
       "<tr><td><i style='opacity: 0.6'>9,999,999</i></td><td>57    </td><td>72    </td><td>11    </td><td>53    </td><td>30    </td><td>77    </td><td>85    </td><td>63    </td><td>64    </td><td>17    </td><td>14     </td><td>89     </td><td>55     </td><td>31     </td><td>10     </td><td>30     </td><td>52     </td><td>31     </td><td>83     </td><td>95     </td><td>83              </td><td>True     </td><td>247380600 </td></tr>\n",
       "</tbody>\n",
       "</table>"
      ],
      "text/plain": [
       "#          col0    col1    col2    col3    col4    col5    col6    col7    col8    col9    col10    col11    col12    col13    col14    col15    col16    col17    col18    col19    col1_plus_col2    col1_50    col3_sum\n",
       "0          26      13      54      27      79      22      82      48      75      6       79       21       5        39       33       57       1        37       45       89       67                False      247598672\n",
       "1          15      94      97      61      64      89      89      74      98      83      29       25       8        86       98       2        73       16       77       1        191               True       247380600\n",
       "2          51      12      22      56      23      13      42      33      97      45      74       90       1        41       44       96       23       81       48       74       34                False      247598672\n",
       "3          22      95      57      30      12      92      42      55      7       60      55       89       94       0        45       76       99       49       4        33       152               True       247380600\n",
       "4          72      76      69      15      27      48      26      10      63      69      30       0        51       59       42       62       87       1        26       54       145               True       247380600\n",
       "...        ...     ...     ...     ...     ...     ...     ...     ...     ...     ...     ...      ...      ...      ...      ...      ...      ...      ...      ...      ...      ...               ...        ...\n",
       "9,999,995  55      97      46      14      96      46      83      55      34      56      74       13       45       16       63       59       86       17       40       20       143               True       247380600\n",
       "9,999,996  57      42      2       19      54      94      41      87      49      33      23       72       77       99       55       35       89       30       5        27       44                False      247598672\n",
       "9,999,997  76      33      27      96      32      26      32      54      57      75      90       5        13       36       54       52       53       83       16       68       60                False      247598672\n",
       "9,999,998  0       12      93      27      67      94      50      49      8       13      2        52       18       92       65       11       66       27       83       52       105               False      247598672\n",
       "9,999,999  57      72      11      53      30      77      85      63      64      17      14       89       55       31       10       30       52       31       83       95       83                True       247380600"
      ]
     },
     "execution_count": 32,
     "metadata": {},
     "output_type": "execute_result"
    }
   ],
   "source": [
    "dv_join"
   ]
  },
  {
   "cell_type": "code",
   "execution_count": 33,
   "metadata": {},
   "outputs": [
    {
     "ename": "AttributeError",
     "evalue": "'Expression' object has no attribute 'shift'",
     "output_type": "error",
     "traceback": [
      "\u001b[1;31m---------------------------------------------------------------------------\u001b[0m",
      "\u001b[1;31mAttributeError\u001b[0m                            Traceback (most recent call last)",
      "\u001b[1;32m<ipython-input-33-9b26f490638e>\u001b[0m in \u001b[0;36m<module>\u001b[1;34m\u001b[0m\n\u001b[1;32m----> 1\u001b[1;33m \u001b[0mdv\u001b[0m\u001b[1;33m[\u001b[0m\u001b[1;34m\"Shift\"\u001b[0m\u001b[1;33m]\u001b[0m \u001b[1;33m=\u001b[0m \u001b[0mdv\u001b[0m\u001b[1;33m.\u001b[0m\u001b[0mcol1\u001b[0m\u001b[1;33m.\u001b[0m\u001b[0mshift\u001b[0m\u001b[1;33m(\u001b[0m\u001b[1;36m1\u001b[0m\u001b[1;33m)\u001b[0m\u001b[1;33m\u001b[0m\u001b[1;33m\u001b[0m\u001b[0m\n\u001b[0m",
      "\u001b[1;31mAttributeError\u001b[0m: 'Expression' object has no attribute 'shift'"
     ]
    }
   ],
   "source": [
    "dv[\"Shift\"] = dv.col1.shift(1)"
   ]
  },
  {
   "cell_type": "markdown",
   "metadata": {},
   "source": [
    "## Beyond Pandas: Spark, Dask, Vaex and other big data technologies"
   ]
  },
  {
   "cell_type": "markdown",
   "metadata": {},
   "source": [
    "https://towardsdatascience.com/beyond-pandas-spark-dask-vaex-and-other-big-data-technologies-battling-head-to-head-a453a1f8cc13"
   ]
  },
  {
   "cell_type": "markdown",
   "metadata": {},
   "source": [
    "**Vaex uses LAZY EVALUATION**"
   ]
  },
  {
   "cell_type": "code",
   "execution_count": null,
   "metadata": {},
   "outputs": [],
   "source": []
  }
 ],
 "metadata": {
  "kernelspec": {
   "display_name": "Python 3 (ipykernel)",
   "language": "python",
   "name": "python3"
  },
  "language_info": {
   "codemirror_mode": {
    "name": "ipython",
    "version": 3
   },
   "file_extension": ".py",
   "mimetype": "text/x-python",
   "name": "python",
   "nbconvert_exporter": "python",
   "pygments_lexer": "ipython3",
   "version": "3.9.7"
  },
  "latex_envs": {
   "LaTeX_envs_menu_present": true,
   "autoclose": false,
   "autocomplete": true,
   "bibliofile": "biblio.bib",
   "cite_by": "apalike",
   "current_citInitial": 1,
   "eqLabelWithNumbers": true,
   "eqNumInitial": 1,
   "hotkeys": {
    "equation": "Ctrl-E",
    "itemize": "Ctrl-I"
   },
   "labels_anchors": false,
   "latex_user_defs": false,
   "report_style_numbering": false,
   "user_envs_cfg": false
  },
  "toc": {
   "base_numbering": 1,
   "nav_menu": {},
   "number_sections": true,
   "sideBar": true,
   "skip_h1_title": true,
   "title_cell": "Table of Contents",
   "title_sidebar": "Contents",
   "toc_cell": false,
   "toc_position": {
    "height": "calc(100% - 180px)",
    "left": "10px",
    "top": "150px",
    "width": "199.865px"
   },
   "toc_section_display": true,
   "toc_window_display": true
  }
 },
 "nbformat": 4,
 "nbformat_minor": 4
}
