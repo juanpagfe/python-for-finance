{
 "cells": [
  {
   "cell_type": "markdown",
   "metadata": {},
   "source": [
    "# **Functional Programming in Python**\n",
    "---\n",
    "<img src=\"http://www.doc.ic.ac.uk/~afd/images/logo_imperial_college_london.png\" align = \"left\" width=200>\n",
    " <br><br><br><br>\n",
    " \n",
    "- Copyright (c) Antoine Jacquier, 2021. All rights reserved\n",
    "\n",
    "- Author: Antoine Jacquier <a.jacquier@imperial.ac.uk>\n",
    "\n",
    "- Platform: Tested on Windows 10 with Python 3.7"
   ]
  },
  {
   "cell_type": "code",
   "execution_count": null,
   "metadata": {},
   "outputs": [],
   "source": [
    "import numpy as np\n",
    "import matplotlib.pylab as plt\n",
    "from PIL import Image\n",
    "import requests\n",
    "from io import BytesIO"
   ]
  },
  {
   "cell_type": "markdown",
   "metadata": {},
   "source": [
    "Imperative Programming is \"traditional programming\", that is the style of programming used in C, C++, Java, C#...\n",
    "There, the programmer tells the computer what to do, and the structure is dictated by control statements, looping constructs and assignments. Functional Programming however, aims to describe the solution of the program, rather than the way it should be done.\n",
    "\n",
    "FP is also easier to debug, as each function can be thought as an independent debug unit."
   ]
  },
  {
   "cell_type": "code",
   "execution_count": null,
   "metadata": {},
   "outputs": [],
   "source": [
    "#img = Image.open(r\"Data/ProgrammingParadigms.png\")  \n",
    "response = requests.get(\"https://upload.wikimedia.org/wikipedia/commons/thumb/f/f7/Programming_paradigms.svg/500px-Programming_paradigms.svg.png\")\n",
    "img = Image.open(BytesIO(response.content))\n",
    "plt.figure(figsize=(25, 20))\n",
    "plt.imshow(img)\n",
    "print(\"Source: , https://en.wikipedia.org/wiki/Programming_paradigm\")"
   ]
  },
  {
   "cell_type": "markdown",
   "metadata": {},
   "source": [
    "## Introduction: Characterisation of Python functions"
   ]
  },
  {
   "cell_type": "markdown",
   "metadata": {},
   "source": [
    "### Referentially Transparency"
   ]
  },
  {
   "cell_type": "markdown",
   "metadata": {},
   "source": [
    "An operation is said to be Referentially Transparent (RT) if it can be replaced with its\n",
    "corresponding value, without changing the program's behaviour, for a given set of\n",
    "parameters. The function `incrementRT` below is RT as it always returns the same values for the same input:"
   ]
  },
  {
   "cell_type": "code",
   "execution_count": null,
   "metadata": {},
   "outputs": [],
   "source": [
    "def incrementRT(num):\n",
    "    return num + 1\n",
    "\n",
    "print(\"Output: \", incrementRT(5))\n",
    "print(\"Output: \", incrementRT(5))"
   ]
  },
  {
   "cell_type": "markdown",
   "metadata": {},
   "source": [
    "The following function, `incrementNotRT`, however, is not, as the output changes because of the global variable:"
   ]
  },
  {
   "cell_type": "code",
   "execution_count": null,
   "metadata": {},
   "outputs": [],
   "source": [
    "amount = 1\n",
    "def incrementNotRT(num):\n",
    "    return num + amount\n",
    "\n",
    "print(\"Output: \", incrementNotRT(5))\n",
    "\n",
    "amount = 2\n",
    "print(\"Output: \", incrementNotRT(5))"
   ]
  },
  {
   "cell_type": "markdown",
   "metadata": {},
   "source": [
    "**Examples:**\n",
    "- A function that returns the current time is clearly not RT.\n",
    "- A function that returns a sample from a distribution  is clearly not RT."
   ]
  },
  {
   "cell_type": "markdown",
   "metadata": {},
   "source": [
    "### Side effects"
   ]
  },
  {
   "cell_type": "markdown",
   "metadata": {},
   "source": [
    "A function should not have any side effects, i.e. should  base its operations purely on the values it receives and its only impact should be the result returned. Any hidden side effects make software harder to maintain. Many functions, however, do have side effects, for example when it updates a database.\n",
    "We call a function **PURE** if it does not have side effects."
   ]
  },
  {
   "cell_type": "markdown",
   "metadata": {},
   "source": [
    "#### Immutability"
   ]
  },
  {
   "cell_type": "markdown",
   "metadata": {},
   "source": [
    "Python offers immutable data types, in particular `tuple`, to be contrasted with standard lists."
   ]
  },
  {
   "cell_type": "code",
   "execution_count": null,
   "metadata": {},
   "outputs": [],
   "source": [
    "mutable = ['Jack', 10, [4, 5]]\n",
    "immutable = ('Jack', 10, [4, 5])\n",
    "\n",
    "# Reading from data types are essentially the same:\n",
    "print(\"mutable is of type \", type(mutable), mutable[2])    # [4, 5]\n",
    "print(\"immutable is of type \", type(immutable), immutable[2])  # [4, 5]"
   ]
  },
  {
   "cell_type": "code",
   "execution_count": null,
   "metadata": {},
   "outputs": [],
   "source": [
    "# Tuple items cannot be modified\n",
    "mutable[1] = 15\n",
    "immutable[1] = 15 ## Generates an error"
   ]
  },
  {
   "cell_type": "code",
   "execution_count": null,
   "metadata": {},
   "outputs": [],
   "source": [
    "mutable[2] = [4, 5, 3]\n",
    "mutable"
   ]
  },
  {
   "cell_type": "markdown",
   "metadata": {},
   "source": [
    "**Exercise**\n",
    "\n",
    "At HSBC,  you need to construct a database for all clients' accounts.\n",
    "How would you write (as a list or a tuple) it, given that an account has the following attributes (for each attribute, indicate its type):\n",
    "\n",
    "- Bank account number\n",
    "- Bank account holder's name\n",
    "- Transactions (with the corresponding date)\n"
   ]
  },
  {
   "cell_type": "markdown",
   "metadata": {},
   "source": [
    "## Higher-order functions"
   ]
  },
  {
   "cell_type": "markdown",
   "metadata": {},
   "source": [
    "A higher-order function is a function that takes other functions (or actions) as arguments. One may think of it as a convolution function."
   ]
  },
  {
   "cell_type": "code",
   "execution_count": null,
   "metadata": {},
   "outputs": [],
   "source": [
    "def hof_write_repeat(message, n, action):\n",
    "    for i in range(n):\n",
    "        action(message)\n",
    "\n",
    "hof_write_repeat('Hello', 3, print)"
   ]
  },
  {
   "cell_type": "code",
   "execution_count": null,
   "metadata": {},
   "outputs": [],
   "source": [
    "import logging\n",
    "## Logging allows you to track events occurring when something is running\n",
    "# Log the output as an error instead\n",
    "hof_write_repeat('There is an error here', 1, logging.error)"
   ]
  },
  {
   "cell_type": "code",
   "execution_count": null,
   "metadata": {},
   "outputs": [],
   "source": [
    "logging.error"
   ]
  },
  {
   "cell_type": "code",
   "execution_count": null,
   "metadata": {},
   "outputs": [],
   "source": [
    "def hof_add(increment):\n",
    "    # Create a function that loops and adds the increment\n",
    "    def add_increment(listOfNumbers):\n",
    "        return [l + increment for l in listOfNumbers]\n",
    "    return add_increment\n",
    "\n",
    "add5 = hof_add(5)\n",
    "\n",
    "print(\"add5 has type \", type(add5))\n",
    "print(add5([23, 88]))\n",
    "\n",
    "add10 = hof_add(10)\n",
    "print(add10([23, 88]))"
   ]
  },
  {
   "cell_type": "markdown",
   "metadata": {},
   "source": [
    "## lambda functions "
   ]
  },
  {
   "cell_type": "markdown",
   "metadata": {},
   "source": [
    "A `lambda` function is an anonymous function. \n",
    "They act like standard functions, but are created withouth the `def` keyword and without a name.\n",
    "Their key attributes are \n",
    "\n",
    "- they can take any number of arguments;\n",
    "- they can return function objects;\n",
    "- they only contain one single expression.\n"
   ]
  },
  {
   "cell_type": "code",
   "execution_count": null,
   "metadata": {},
   "outputs": [],
   "source": [
    "def prod(x,y):\n",
    "    return x*y"
   ]
  },
  {
   "cell_type": "code",
   "execution_count": null,
   "metadata": {},
   "outputs": [],
   "source": [
    "product = lambda x, y : x * y\n",
    "product(2, 3)"
   ]
  },
  {
   "cell_type": "markdown",
   "metadata": {},
   "source": [
    "We can write a multiplication table, similarly to above, using lambda functions:"
   ]
  },
  {
   "cell_type": "code",
   "execution_count": null,
   "metadata": {},
   "outputs": [],
   "source": [
    "def hof_product(multiplier):\n",
    "    return lambda x: x * multiplier\n",
    "\n",
    "multTable = hof_product(3)\n",
    "print([multTable(i) for i in range(10)])"
   ]
  },
  {
   "cell_type": "markdown",
   "metadata": {},
   "source": [
    "**WARNING: READABILITY, CLARITY, SIMPLICITY**"
   ]
  },
  {
   "cell_type": "markdown",
   "metadata": {},
   "source": [
    "**Exercise:**\n",
    "*Rewrite the higher-order function `hof_add` above using `lambda` functions.*"
   ]
  },
  {
   "cell_type": "markdown",
   "metadata": {},
   "source": [
    "## Built-in higher-order functions"
   ]
  },
  {
   "cell_type": "markdown",
   "metadata": {},
   "source": [
    "Python has several higher-order functions already built in. Note that they always return an iterator."
   ]
  },
  {
   "cell_type": "markdown",
   "metadata": {},
   "source": [
    "### The `map` function"
   ]
  },
  {
   "cell_type": "markdown",
   "metadata": {},
   "source": [
    "It allows us to apply a function to every element in an iterable object."
   ]
  },
  {
   "cell_type": "code",
   "execution_count": null,
   "metadata": {},
   "outputs": [],
   "source": [
    "names = ['Akos', 'Bingran', 'Alireza', 'Yuchen', 'Lachlan', 'Valentin']\n",
    "\n",
    "greetingPhrase = \"Hello\"\n",
    "#[greetingPhrase + \" \"  + n for n in names]\n",
    "greeted_names = map(lambda x: greetingPhrase + \" \" + x, names)\n",
    "print(greeted_names, type(greeted_names))"
   ]
  },
  {
   "cell_type": "code",
   "execution_count": null,
   "metadata": {},
   "outputs": [],
   "source": [
    "list(greeted_names)"
   ]
  },
  {
   "cell_type": "code",
   "execution_count": null,
   "metadata": {},
   "outputs": [],
   "source": [
    "for n in greeted_names:\n",
    "    print(n)"
   ]
  },
  {
   "cell_type": "markdown",
   "metadata": {},
   "source": [
    "???? STRANGE ????\n",
    "`map` is an iterator [later...]"
   ]
  },
  {
   "cell_type": "markdown",
   "metadata": {},
   "source": [
    "##### Computation time?"
   ]
  },
  {
   "cell_type": "code",
   "execution_count": null,
   "metadata": {},
   "outputs": [],
   "source": [
    "xx = np.linspace(-.2, .2, 10000)\n",
    "%timeit yy = map(lambda x: np.exp(-x), xx)"
   ]
  },
  {
   "cell_type": "code",
   "execution_count": null,
   "metadata": {},
   "outputs": [],
   "source": [
    "%timeit yy2 = np.exp(-xx)"
   ]
  },
  {
   "cell_type": "markdown",
   "metadata": {},
   "source": [
    "**Remark:**\n",
    "*A `tuple` is also iterable, so `map` can be applied to it as well.*"
   ]
  },
  {
   "cell_type": "code",
   "execution_count": null,
   "metadata": {},
   "outputs": [],
   "source": [
    "names = ('Akos', 'Bingran', 'Alireza', 'Yuchen', 'Lachlan', 'Valentin')\n",
    "greeted_names = map(lambda x: greetingPhrase + \" \" + x, names)\n",
    "\n",
    "for sentence in greeted_names:\n",
    "    print(sentence)"
   ]
  },
  {
   "cell_type": "code",
   "execution_count": null,
   "metadata": {},
   "outputs": [],
   "source": [
    "list(greeted_names)"
   ]
  },
  {
   "cell_type": "markdown",
   "metadata": {},
   "source": [
    "**Exercise:**\n",
    "*Rewrite the multiplication table above using `map` and `lambda` functions.*"
   ]
  },
  {
   "cell_type": "code",
   "execution_count": null,
   "metadata": {},
   "outputs": [],
   "source": [
    "c = 3.\n",
    "xx = np.array([2, 3, 5])\n",
    "mult_map = map(lambda x: x*c, xx)\n",
    "list(mult_map)"
   ]
  },
  {
   "cell_type": "markdown",
   "metadata": {},
   "source": [
    "### The `filter` function."
   ]
  },
  {
   "cell_type": "markdown",
   "metadata": {},
   "source": [
    " It tests every element in an iterable object with a function that returns True or False, keeping the former only."
   ]
  },
  {
   "cell_type": "code",
   "execution_count": null,
   "metadata": {},
   "outputs": [],
   "source": [
    "numbers = [13, 10, 11, 17, 85]\n",
    "\n",
    "div_by_5_filter = filter(lambda num: num % 5 == 0, numbers)\n",
    "div_by_5_map = map(lambda num: num % 5 == 0, numbers)\n",
    "\n",
    "# We convert the iterator into a list\n",
    "print(\"map: \", list(div_by_5_map))\n",
    "\n",
    "print(\"filter: \", list(div_by_5_filter))"
   ]
  },
  {
   "cell_type": "code",
   "execution_count": null,
   "metadata": {},
   "outputs": [],
   "source": [
    "print([n % 5 ==0 for n in numbers])"
   ]
  },
  {
   "cell_type": "markdown",
   "metadata": {},
   "source": [
    "## `functools` functions"
   ]
  },
  {
   "cell_type": "code",
   "execution_count": null,
   "metadata": {},
   "outputs": [],
   "source": [
    "import functools"
   ]
  },
  {
   "cell_type": "markdown",
   "metadata": {},
   "source": [
    "### `reduce`"
   ]
  },
  {
   "cell_type": "markdown",
   "metadata": {},
   "source": [
    "reduces the iterable to a single value. Contrary to `filter` and `map`, it takes two input values."
   ]
  },
  {
   "cell_type": "markdown",
   "metadata": {},
   "source": [
    "Let us check the formula\n",
    "$$\n",
    "\\sum_{i=0}^{n}i = \\frac{n(n+1)}{2}.\n",
    "$$"
   ]
  },
  {
   "cell_type": "code",
   "execution_count": null,
   "metadata": {},
   "outputs": [],
   "source": [
    "def formula(n):\n",
    "    return n*(n+1) // 2"
   ]
  },
  {
   "cell_type": "code",
   "execution_count": null,
   "metadata": {},
   "outputs": [],
   "source": [
    "n = 10\n",
    "print(\"Formula: \", formula(n))"
   ]
  },
  {
   "cell_type": "code",
   "execution_count": null,
   "metadata": {},
   "outputs": [],
   "source": [
    "myList = range(n+1)\n",
    "\n",
    "mySum = functools.reduce(lambda a, b : a+b, myList)\n",
    "print(\"The sum is equal to\", mySum) "
   ]
  },
  {
   "cell_type": "markdown",
   "metadata": {},
   "source": [
    "Another example: computing the max"
   ]
  },
  {
   "cell_type": "code",
   "execution_count": null,
   "metadata": {},
   "outputs": [],
   "source": [
    "myMax = functools.reduce(lambda a, b : a if a > b else b,myList)\n",
    "print(\"The maximum is equal to\", myMax) "
   ]
  },
  {
   "cell_type": "markdown",
   "metadata": {},
   "source": [
    "**Quote by Guido van Rossum, creator of `Python`:**\n",
    "\n",
    "\"*Use functools.reduce if you really need it; however, 99% of the time an explicit for loop is more readable.*\""
   ]
  },
  {
   "cell_type": "markdown",
   "metadata": {},
   "source": [
    "### The `partial` module"
   ]
  },
  {
   "cell_type": "markdown",
   "metadata": {},
   "source": [
    "One may want to use the behaviour of a function, but freezing some of its arguments.\n",
    "For example"
   ]
  },
  {
   "cell_type": "code",
   "execution_count": null,
   "metadata": {},
   "outputs": [],
   "source": [
    "def add(a):\n",
    "    return a+2\n",
    "\n",
    "add(3)"
   ]
  },
  {
   "cell_type": "code",
   "execution_count": null,
   "metadata": {},
   "outputs": [],
   "source": [
    "from functools import partial\n",
    "\n",
    "def add(bb, a): ## one can only freeze the first argument\n",
    "    return a + np.sum(bb)\n",
    "\n",
    "add_new = partial(add, [2, 3, 5, 7])\n",
    "\n",
    "add_new(4)"
   ]
  },
  {
   "cell_type": "code",
   "execution_count": null,
   "metadata": {},
   "outputs": [],
   "source": [
    "def printMessage(message, name): ## the first argument is frozen\n",
    "    return message + \" \" + name\n",
    "\n",
    "newMessage = partial(printMessage, \"Hello\")\n",
    "\n",
    "newMessage(\"Jack\")"
   ]
  },
  {
   "cell_type": "markdown",
   "metadata": {},
   "source": [
    "*Example: When using the Black-Scholes pricing function, we may want to impose a specified interest rate, that the user cannot modify.* "
   ]
  },
  {
   "cell_type": "markdown",
   "metadata": {},
   "source": [
    "$$\n",
    "BS(r, S_0, K, T, \\sigma)\n",
    "$$"
   ]
  },
  {
   "cell_type": "markdown",
   "metadata": {},
   "source": [
    "BS_user = partial(BS, fixedRate)"
   ]
  },
  {
   "cell_type": "markdown",
   "metadata": {},
   "source": [
    "**Exercise:**\n",
    "*Rewrite the above two operations (sum and max) using `numpy` packages (not with `functools`).*"
   ]
  },
  {
   "cell_type": "markdown",
   "metadata": {},
   "source": [
    "**Exercise:**\n",
    "*Write the following command using `map` and `filter`:*\n",
    "\n",
    "*`arbitrary_numbers = [num ** 3 for num in range(1, 21) if num % 3 == 0]`*\n",
    "\n",
    "*Test on the list `numbers = [13, 10, 11, 18, 35]`*"
   ]
  },
  {
   "cell_type": "code",
   "execution_count": null,
   "metadata": {},
   "outputs": [],
   "source": [
    "## Solution:\n",
    "arbitrary_numbersFilter = map(lambda num: num ** 3, filter(lambda num: num % 3 == 0, range(1, 21)))"
   ]
  },
  {
   "cell_type": "code",
   "execution_count": null,
   "metadata": {},
   "outputs": [],
   "source": [
    "list(arbitrary_numbersFilter)"
   ]
  },
  {
   "cell_type": "markdown",
   "metadata": {},
   "source": [
    "## Iterators and Generators"
   ]
  },
  {
   "cell_type": "markdown",
   "metadata": {},
   "source": [
    "An iterator is an object representing a stream of data. It must support a method called `__next__()` that takes no argument and returns the next element of the stream. At the end of the stream, `__next__()` raises the `StopIteration` exception. Iterators (the data) can be of finite or infinite length."
   ]
  },
  {
   "cell_type": "markdown",
   "metadata": {},
   "source": [
    "Standard objects to iterate over (called iterable objects) are lists, tuples, arrays, dictionaries."
   ]
  },
  {
   "cell_type": "markdown",
   "metadata": {},
   "source": [
    "The two fundamental methods `iter()` and `next()` are called *iterator protocols*."
   ]
  },
  {
   "cell_type": "code",
   "execution_count": null,
   "metadata": {},
   "outputs": [],
   "source": [
    "## Example\n",
    "xx = np.linspace(1., 10., 5)\n",
    "print(xx, type(xx))"
   ]
  },
  {
   "cell_type": "code",
   "execution_count": null,
   "metadata": {},
   "outputs": [],
   "source": [
    "it = iter(xx)\n",
    "print(\"it: \", it, type(it))"
   ]
  },
  {
   "cell_type": "code",
   "execution_count": null,
   "metadata": {},
   "outputs": [],
   "source": [
    "print(next(it))"
   ]
  },
  {
   "cell_type": "markdown",
   "metadata": {},
   "source": [
    "The functions min(), max(), in are built-in functions operating on iterators:"
   ]
  },
  {
   "cell_type": "code",
   "execution_count": null,
   "metadata": {},
   "outputs": [],
   "source": [
    "print(max(iter(xx)))\n",
    "print(min(iter(xx)))"
   ]
  },
  {
   "cell_type": "markdown",
   "metadata": {},
   "source": [
    "*Of course here you could use `numpy.max` and `numpy.min` directly on the `numpy.array`.*"
   ]
  },
  {
   "cell_type": "code",
   "execution_count": null,
   "metadata": {},
   "outputs": [],
   "source": [
    "print(xx[1] in iter(xx))\n",
    "print(1.2 in iter(xx))"
   ]
  },
  {
   "cell_type": "markdown",
   "metadata": {},
   "source": [
    "*Warning....!*"
   ]
  },
  {
   "cell_type": "code",
   "execution_count": null,
   "metadata": {},
   "outputs": [],
   "source": [
    "it = iter(xx)\n",
    "print(1.2 in it)"
   ]
  },
  {
   "cell_type": "code",
   "execution_count": null,
   "metadata": {},
   "outputs": [],
   "source": [
    "next(it)"
   ]
  },
  {
   "cell_type": "markdown",
   "metadata": {},
   "source": [
    "### Iterators for dictionaries"
   ]
  },
  {
   "cell_type": "markdown",
   "metadata": {},
   "source": [
    "Since dictionaries are iterable objects, we can also construct iterators on them."
   ]
  },
  {
   "cell_type": "markdown",
   "metadata": {},
   "source": [
    "Let us illustrate this on financial data.\n",
    "We first import options data on the S&P 500 from Yahoo Finance, and create a dictionary from this `pandas` dataframe."
   ]
  },
  {
   "cell_type": "code",
   "execution_count": null,
   "metadata": {},
   "outputs": [],
   "source": [
    "from yahoo_fin import options\n",
    "\n",
    "chain = options.get_options_chain(\"spy\")\n",
    "calls = chain[\"calls\"]"
   ]
  },
  {
   "cell_type": "code",
   "execution_count": null,
   "metadata": {},
   "outputs": [],
   "source": [
    "calls.head()"
   ]
  },
  {
   "cell_type": "code",
   "execution_count": null,
   "metadata": {},
   "outputs": [],
   "source": [
    "calls.info()"
   ]
  },
  {
   "cell_type": "code",
   "execution_count": null,
   "metadata": {},
   "outputs": [],
   "source": [
    "someIndex = 3#len(calls) // 2\n",
    "keys = list(calls.keys())\n",
    "print(keys)\n",
    "## Same as keys = calls.columns.values"
   ]
  },
  {
   "cell_type": "code",
   "execution_count": null,
   "metadata": {},
   "outputs": [],
   "source": [
    "values = [calls[k][someIndex] for k in keys]\n",
    "\n",
    "dictio = {k : v for (k,v) in zip(keys, values)}"
   ]
  },
  {
   "cell_type": "code",
   "execution_count": null,
   "metadata": {},
   "outputs": [],
   "source": [
    "dictio.keys()"
   ]
  },
  {
   "cell_type": "code",
   "execution_count": null,
   "metadata": {},
   "outputs": [],
   "source": [
    "for k in dictio.keys():\n",
    "    print(k, \": \", dictio[k])"
   ]
  },
  {
   "cell_type": "code",
   "execution_count": null,
   "metadata": {},
   "outputs": [],
   "source": [
    "## The iterator loops over the keys of the dictionary\n",
    "it = iter(dictio)"
   ]
  },
  {
   "cell_type": "code",
   "execution_count": null,
   "metadata": {},
   "outputs": [],
   "source": [
    "print(next(it))"
   ]
  },
  {
   "cell_type": "code",
   "execution_count": null,
   "metadata": {},
   "outputs": [],
   "source": [
    "print(next(it))"
   ]
  },
  {
   "cell_type": "markdown",
   "metadata": {},
   "source": [
    "### Generators"
   ]
  },
  {
   "cell_type": "markdown",
   "metadata": {},
   "source": [
    "Generators are similar to functions, but do not destroy the local environment within a `Python` function once the function has been evaluated."
   ]
  },
  {
   "cell_type": "code",
   "execution_count": null,
   "metadata": {},
   "outputs": [],
   "source": [
    "def generate_ints(N):\n",
    "    for i in range(N):\n",
    "        yield i\n",
    "## there is no `return' command for generators\n",
    "\n",
    "gen = generate_ints(3)\n",
    "print(\"gen is of type \", type(it))"
   ]
  },
  {
   "cell_type": "code",
   "execution_count": null,
   "metadata": {},
   "outputs": [],
   "source": [
    "print(next(gen))\n",
    "print(next(gen))\n",
    "print(next(gen))"
   ]
  },
  {
   "cell_type": "markdown",
   "metadata": {},
   "source": [
    "You can also modify the value of an internal counter within a generator, using the send() method."
   ]
  },
  {
   "cell_type": "code",
   "execution_count": null,
   "metadata": {},
   "outputs": [],
   "source": [
    "def counter(maximum):\n",
    "    i = 0\n",
    "    while i < maximum:\n",
    "        val = yield i\n",
    "        # If a value is provided, we change the counter\n",
    "        if val is not None:\n",
    "            i = val\n",
    "        else:\n",
    "            i += 1"
   ]
  },
  {
   "cell_type": "code",
   "execution_count": null,
   "metadata": {},
   "outputs": [],
   "source": [
    "it = counter(10)\n",
    "print(next(it))\n",
    "print(next(it))\n",
    "print(next(it))"
   ]
  },
  {
   "cell_type": "code",
   "execution_count": null,
   "metadata": {},
   "outputs": [],
   "source": [
    "it.send(7)\n",
    "print(next(it))\n",
    "print(next(it))"
   ]
  },
  {
   "cell_type": "markdown",
   "metadata": {},
   "source": [
    "The other useful methods on generators are\n",
    "- throw() to raise an exception\n",
    "- close() to terminate the iteration within the generator"
   ]
  },
  {
   "cell_type": "markdown",
   "metadata": {},
   "source": [
    "### When to use iterators / generators?"
   ]
  },
  {
   "cell_type": "markdown",
   "metadata": {},
   "source": [
    "#### Example 1: reading through a large file"
   ]
  },
  {
   "cell_type": "code",
   "execution_count": 1,
   "metadata": {},
   "outputs": [],
   "source": [
    "import csv"
   ]
  },
  {
   "cell_type": "code",
   "execution_count": 8,
   "metadata": {},
   "outputs": [],
   "source": [
    "def read_file():\n",
    "    with open('Book1.csv', 'r') as myfile:\n",
    "        r = csv.reader(myfile)\n",
    "        return [row for row in r]\n",
    "\n",
    "output_rows = read_file2() "
   ]
  },
  {
   "cell_type": "code",
   "execution_count": 9,
   "metadata": {},
   "outputs": [],
   "source": [
    "def read_file_gen():\n",
    "    with open('Book1.csv', 'r') as myfile:\n",
    "        r = csv.reader(myfile)\n",
    "        for row in r:\n",
    "            yield row\n",
    "\n",
    "output_rows_gen = [row for row in read_file_gen()]"
   ]
  },
  {
   "cell_type": "code",
   "execution_count": 11,
   "metadata": {},
   "outputs": [
    {
     "name": "stdout",
     "output_type": "stream",
     "text": [
      "112\n",
      "7509944\n",
      "7509944\n",
      "7509944\n"
     ]
    }
   ],
   "source": [
    "import sys\n",
    "print(sys.getsizeof(read_file_gen()))\n",
    "print(sys.getsizeof(read_file()))\n",
    "print(sys.getsizeof(output_rows_gen))\n",
    "print(sys.getsizeof(output_rows))\n"
   ]
  },
  {
   "cell_type": "markdown",
   "metadata": {},
   "source": [
    "#### Example 2: Computing over large arrays"
   ]
  },
  {
   "cell_type": "code",
   "execution_count": 68,
   "metadata": {},
   "outputs": [],
   "source": [
    "N = 10000"
   ]
  },
  {
   "cell_type": "code",
   "execution_count": 69,
   "metadata": {},
   "outputs": [
    {
     "name": "stdout",
     "output_type": "stream",
     "text": [
      "<class 'list'>\n",
      "574 µs ± 40.3 µs per loop (mean ± std. dev. of 7 runs, 1000 loops each)\n"
     ]
    },
    {
     "data": {
      "text/plain": [
       "333283335000"
      ]
     },
     "execution_count": 69,
     "metadata": {},
     "output_type": "execute_result"
    }
   ],
   "source": [
    "list_integers = [i * i for i in range(N)]\n",
    "print(type(list_integers))\n",
    "%timeit sum(list_integers)\n",
    "sum(list_integers)"
   ]
  },
  {
   "cell_type": "code",
   "execution_count": 70,
   "metadata": {},
   "outputs": [],
   "source": [
    "def list_gen_func(N):\n",
    "    for i in range(N):\n",
    "        yield i*i"
   ]
  },
  {
   "cell_type": "code",
   "execution_count": 71,
   "metadata": {},
   "outputs": [
    {
     "name": "stdout",
     "output_type": "stream",
     "text": [
      "<class 'generator'>\n"
     ]
    },
    {
     "data": {
      "text/plain": [
       "333283335000"
      ]
     },
     "execution_count": 71,
     "metadata": {},
     "output_type": "execute_result"
    }
   ],
   "source": [
    "list_integers_gen_func = list_gen_func(N)\n",
    "print(type(list_integers_gen_func))\n",
    "#%timeit sum(list_integers_gen_func)\n",
    "sum(list_integers_gen_func)"
   ]
  },
  {
   "cell_type": "code",
   "execution_count": 72,
   "metadata": {},
   "outputs": [
    {
     "name": "stdout",
     "output_type": "stream",
     "text": [
      "<class 'generator'>\n"
     ]
    },
    {
     "data": {
      "text/plain": [
       "333283335000"
      ]
     },
     "execution_count": 72,
     "metadata": {},
     "output_type": "execute_result"
    }
   ],
   "source": [
    "list_integers_gen = (i * i for i in range(N))\n",
    "print(type(list_integers_gen))\n",
    "#%timeit sum(list_integers_gen)\n",
    "sum(list_integers_gen)"
   ]
  },
  {
   "cell_type": "code",
   "execution_count": 73,
   "metadata": {},
   "outputs": [
    {
     "name": "stdout",
     "output_type": "stream",
     "text": [
      "85176\n",
      "112\n",
      "112\n"
     ]
    }
   ],
   "source": [
    "print(sys.getsizeof(list_integers))\n",
    "print(sys.getsizeof(list_integers_gen))\n",
    "print(sys.getsizeof(list_integers_gen_func))"
   ]
  },
  {
   "cell_type": "markdown",
   "metadata": {},
   "source": [
    "### Built-in functions for iterators"
   ]
  },
  {
   "cell_type": "code",
   "execution_count": null,
   "metadata": {},
   "outputs": [],
   "source": [
    "## the map() function returns an iterator over a sequence\n",
    "def upper(word):\n",
    "    return word.upper()\n",
    "\n",
    "listNames = ['foreign exchange', 'equities', 'rates', 'commodities']\n",
    "map_uppercase = map(upper, listNames)\n",
    "type(map_uppercase)"
   ]
  },
  {
   "cell_type": "code",
   "execution_count": null,
   "metadata": {},
   "outputs": [],
   "source": [
    "next(map_uppercase)"
   ]
  },
  {
   "cell_type": "markdown",
   "metadata": {},
   "source": [
    "#### `enumerate()`"
   ]
  },
  {
   "cell_type": "code",
   "execution_count": null,
   "metadata": {},
   "outputs": [],
   "source": [
    "for i in range(len(listNames)):\n",
    "    print(i, listNames[i])"
   ]
  },
  {
   "cell_type": "code",
   "execution_count": null,
   "metadata": {},
   "outputs": [],
   "source": [
    "## enumerate() returns 2-tuples containing counts and elements:\n",
    "for x in enumerate(listNames):\n",
    "    print(x)"
   ]
  },
  {
   "cell_type": "markdown",
   "metadata": {},
   "source": [
    "#### `sorted()` and `sort()`"
   ]
  },
  {
   "cell_type": "code",
   "execution_count": null,
   "metadata": {},
   "outputs": [],
   "source": [
    "import yfinance as yf\n",
    "## https://www.slickcharts.com/sp500\n",
    "listTickers = ['GOOGL', 'AAPL', 'MSFT', 'AMZN', 'UNH', 'TSLA', 'JNJ', 'XOM', 'JPM', 'NVDA'] ##, 'BRK.B'\n",
    "unsortedList = []\n",
    "for ticker in listTickers:\n",
    "    ticker_info = yf.Ticker(ticker).info\n",
    "    market_price = ticker_info['regularMarketPrice']\n",
    "    unsortedList.append((ticker, market_price))"
   ]
  },
  {
   "cell_type": "code",
   "execution_count": null,
   "metadata": {},
   "outputs": [],
   "source": [
    "list(unsortedList)"
   ]
  },
  {
   "cell_type": "code",
   "execution_count": null,
   "metadata": {},
   "outputs": [],
   "source": [
    "unsortedList_copy = unsortedList"
   ]
  },
  {
   "cell_type": "code",
   "execution_count": null,
   "metadata": {},
   "outputs": [],
   "source": [
    "list(unsortedList_copy)"
   ]
  },
  {
   "cell_type": "code",
   "execution_count": null,
   "metadata": {},
   "outputs": [],
   "source": [
    "unsortedList_copy.sort(key=lambda x: x[1])\n",
    "unsortedList_copy"
   ]
  },
  {
   "cell_type": "markdown",
   "metadata": {},
   "source": [
    "- **Problem 1:** The list (unsortedList_copy) has been modified.\n",
    "\n",
    "- **Problem 2:** The very original list (unsortedList) has also been modified."
   ]
  },
  {
   "cell_type": "code",
   "execution_count": null,
   "metadata": {},
   "outputs": [],
   "source": [
    "unsortedList"
   ]
  },
  {
   "cell_type": "code",
   "execution_count": null,
   "metadata": {},
   "outputs": [],
   "source": [
    "unsortedList_copy = unsortedList"
   ]
  },
  {
   "cell_type": "code",
   "execution_count": null,
   "metadata": {},
   "outputs": [],
   "source": [
    "sorted(unsortedList_copy, key=lambda x: x[1])"
   ]
  },
  {
   "cell_type": "code",
   "execution_count": null,
   "metadata": {},
   "outputs": [],
   "source": [
    "unsortedList"
   ]
  },
  {
   "cell_type": "markdown",
   "metadata": {},
   "source": [
    "The main difference is that the original list is unchanged when using `sorted()`."
   ]
  },
  {
   "cell_type": "markdown",
   "metadata": {},
   "source": [
    "#### `zip()`"
   ]
  },
  {
   "cell_type": "markdown",
   "metadata": {},
   "source": [
    "`zip` converts multiple sequences and combines them into tuple. Here is an example creating a dictionary counting the letters in names:"
   ]
  },
  {
   "cell_type": "code",
   "execution_count": null,
   "metadata": {},
   "outputs": [],
   "source": [
    "names = ['Akos', 'Bingran', 'Alireza', 'Yuchen', 'Lachlan', 'Valentin']\n",
    "ll = map(len, names)\n",
    "dict(zip(names, ll))"
   ]
  },
  {
   "cell_type": "markdown",
   "metadata": {},
   "source": [
    "### A Finance example:  option pricing"
   ]
  },
  {
   "cell_type": "markdown",
   "metadata": {},
   "source": [
    "The Black–Scholes model is one of the cornerstones of mathematical finance.\n",
    "It assumes that the underlying stock price has the following dynamics:\n",
    "$$\n",
    "\\frac{d S_t}{S_t} = r dt + \\sigma d W_t,\n",
    "\\qquad S_0 >0,\n",
    "$$\n",
    "for $t\\geq 0$, for some constant (volatility) $\\sigma>0$, and where $(W_t)_{t\\geq 0}$ is a standard Brownian motion.\n",
    "\n",
    "The value of a European Call option on $(S_t)_{t\\geq 0}$ in the Black-Scholes model is given, at time $t\\in [0,T]$, by\n",
    "$$\n",
    "C^{\\mathrm{BS}}(S_0, K, T;\\sigma) := \\mathrm{e}^{-rT}\\mathbb{E}\\left[\\max(S_{T} - K, 0)\\right]\n",
    " = S_0\\left(\\mathcal{N}(d_{+}) - \\mathrm{e}^{k}\\mathcal{N}(d_{-})\\right),\n",
    "$$\n",
    "where\n",
    "$$\n",
    "d_{\\pm} = \\frac{-k}{\\sigma\\sqrt{T}} \\pm\\frac{\\sigma\\sqrt{T}}{2}\n",
    "$$\n",
    "and\n",
    "- $k := \\log\\left(K\\mathrm{e}^{-rT} / S_0\\right)$ is called the log moneyness;\n",
    "- $\\mathcal{N}(\\cdot)$ is the cumulative distribution function of the standard normal distribution,\n",
    "- $T - t$ is the time to maturity;\n",
    "- $S_t$ is the spot price of the underlying asset;\n",
    "- $K$ is the strike price;\n",
    "- $\\sigma$ is the volatility  of returns of the underlying asset.\n"
   ]
  },
  {
   "cell_type": "code",
   "execution_count": null,
   "metadata": {},
   "outputs": [],
   "source": [
    "from scipy.stats import norm\n",
    "from scipy.optimize import bisect\n",
    "import matplotlib.pyplot as plt\n",
    "import numpy as np\n",
    "\n",
    "def BlackScholesCallPrice(S, K, T, sigma, r):\n",
    "    \"\"\"European Call option price in the Black-Scholes model\n",
    "    S: initial value for the stock price\n",
    "    K: strike\n",
    "    T: maturity\n",
    "    r: constant risk-free rate\n",
    "    \"\"\"\n",
    "    d1 = (np.log(S/K) + (r+.5*sigma**2)*T) / (sigma * np.sqrt(T))\n",
    "    d2 = d1 - sigma * np.sqrt(T)\n",
    "    return S*norm.cdf(d1) - K*np.exp (-r*T) * norm.cdf (d2)\n",
    "\n",
    "\n",
    "\n",
    "def impliedVol(S, K, T, r, price):\n",
    "    \"\"\"Computes the implied volatility given a Call option price\n",
    "    This is done using bisection\n",
    "    \n",
    "    S: initial value for the stock price\n",
    "    K: strike\n",
    "    T: maturity\n",
    "    r: constant risk-free rate\n",
    "    price: observed price\n",
    "    \"\"\"\n",
    "    def smileMin(vol, *args):\n",
    "        S, K, T, r, price = args\n",
    "        return price - BlackScholesCallPrice(S, K, T, vol, r)\n",
    "    vMin = 0.0001\n",
    "    vMax = 3.\n",
    "    return bisect(smileMin, vMin, vMax, args=(S, K, T, r, price), rtol=1e-15, full_output=False, disp=True)"
   ]
  },
  {
   "cell_type": "code",
   "execution_count": null,
   "metadata": {},
   "outputs": [],
   "source": [
    "## Example:\n",
    "S, K, T, r, callput = 1., 0.9,  1., 0., 1\n",
    "price = 0.1\n",
    "print(\"The implied volatility is equal to \" + str(np.round(100*impliedVol(S, K, T, r, price), 2)) + \"% for a Call option worth \" + str(np.round(price, 2)))"
   ]
  },
  {
   "cell_type": "markdown",
   "metadata": {},
   "source": [
    "Example of generated option prices and implied volatilities"
   ]
  },
  {
   "cell_type": "code",
   "execution_count": null,
   "metadata": {},
   "outputs": [],
   "source": [
    "S, T, r, callput = 1., 1., 0., 1\n",
    "nbStrikes = 10\n",
    "KK = np.linspace(0.7, 1.3, nbStrikes)\n",
    "prices = [0.5*np.minimum(1./(2.*K), 1)*(S+ np.maximum(S-K, 0.)) for K in KK]\n",
    "ivs = [impliedVol(S, K, T, r, p) for (K,p) in zip(KK, prices)]\n",
    "\n",
    "plt.figure(figsize=(14, 6))\n",
    "plt.subplot(221)\n",
    "plt.plot(KK, [S for _ in KK], 'k--', label=\"Upper bound\")\n",
    "plt.plot(KK, [np.maximum(S-K,0.) for K in KK], 'c--', label=\"Lower bound\")\n",
    "plt.plot(KK, prices, 'b+', label=\"Prices\")\n",
    "plt.legend(loc=\"best\")\n",
    "plt.xlabel(\"Strike\")\n",
    "plt.title(\"Call option prices\")\n",
    "\n",
    "plt.subplot(222)\n",
    "plt.plot(KK, ivs, 'b+')\n",
    "plt.title(\"Implied volatilities\")\n",
    "plt.xlabel(\"Strike\")\n",
    "plt.show()"
   ]
  },
  {
   "cell_type": "markdown",
   "metadata": {},
   "source": [
    "Suppose now we want to be able to run the impliedVol() function for a whole range of strikes and option prices at the same time."
   ]
  },
  {
   "cell_type": "code",
   "execution_count": null,
   "metadata": {},
   "outputs": [],
   "source": [
    "impliedVols = map(lambda K, p: impliedVol(S, K, T, r, p), KK, prices)"
   ]
  },
  {
   "cell_type": "code",
   "execution_count": null,
   "metadata": {},
   "outputs": [],
   "source": [
    "type(impliedVols)"
   ]
  },
  {
   "cell_type": "code",
   "execution_count": null,
   "metadata": {},
   "outputs": [],
   "source": [
    "ivs = list(impliedVols)\n",
    "np.round(ivs, 2)"
   ]
  },
  {
   "cell_type": "code",
   "execution_count": null,
   "metadata": {},
   "outputs": [],
   "source": [
    "## Note that we could have written this as a list comprehension as well:\n",
    "ivs = [impliedVol(S, K, T, r, p) for (K,p) in zip(KK, prices)]"
   ]
  },
  {
   "cell_type": "markdown",
   "metadata": {},
   "source": [
    "**Exercise:**\n",
    "\n",
    "*Only returns the implied volatilities above a certain threshold.*"
   ]
  },
  {
   "cell_type": "code",
   "execution_count": null,
   "metadata": {},
   "outputs": [],
   "source": [
    "threshold = .68\n",
    "\n",
    "ivs_filtered = list(filter(lambda x: x>threshold, ivs))\n",
    "TrueFalse = list(map(lambda x: x>threshold, ivs))\n",
    "KK_filtered = [K for (i,K) in enumerate(KK) if TrueFalse[i]] ## select the corresponding strikes"
   ]
  },
  {
   "cell_type": "code",
   "execution_count": null,
   "metadata": {},
   "outputs": [],
   "source": [
    "plt.figure(figsize=(8,4))\n",
    "plt.plot(KK, ivs, 'b+', markersize=12, label=\"Before filter\")\n",
    "plt.plot(KK_filtered, ivs_filtered, 'ko', mfc='None', markersize=12, label=\"After filter\")\n",
    "plt.legend(loc=\"best\")\n",
    "plt.title(\"Implied volatilities\")\n",
    "plt.xlabel(\"Strike\")\n",
    "plt.show()"
   ]
  },
  {
   "cell_type": "markdown",
   "metadata": {},
   "source": [
    "## The itertools module\n",
    "The itertools module contains a number of commonly-used iterators as well as functions for combining several iterators.\n",
    "We only show some basic and useful examples.\n",
    "Full details available here: https://docs.python.org/3.7/library/itertools.html"
   ]
  },
  {
   "cell_type": "code",
   "execution_count": null,
   "metadata": {},
   "outputs": [],
   "source": [
    "import itertools"
   ]
  },
  {
   "cell_type": "code",
   "execution_count": null,
   "metadata": {},
   "outputs": [],
   "source": [
    "rep = itertools.repeat('abc', 5)\n",
    "type(rep)"
   ]
  },
  {
   "cell_type": "code",
   "execution_count": null,
   "metadata": {},
   "outputs": [],
   "source": [
    "list(rep)"
   ]
  },
  {
   "cell_type": "code",
   "execution_count": null,
   "metadata": {},
   "outputs": [],
   "source": [
    "list(itertools.chain(['a', 'b', 'c'], (1, 2, 3)))"
   ]
  },
  {
   "cell_type": "code",
   "execution_count": null,
   "metadata": {},
   "outputs": [],
   "source": [
    "## Combinatorics\n",
    "comb = itertools.combinations([1, 2, 3, 4, 5], 2)\n",
    "combL = list(comb)\n",
    "print(combL)\n",
    "print(\"Number of elements: \", len(combL))"
   ]
  },
  {
   "cell_type": "markdown",
   "metadata": {},
   "source": [
    "Note that the elements within each output tuple are in the same order as the original iterable input"
   ]
  },
  {
   "cell_type": "code",
   "execution_count": null,
   "metadata": {},
   "outputs": [],
   "source": [
    "perm = itertools.permutations([1, 2, 3, 4, 5], 2)\n",
    "permL = list(perm)\n",
    "print(permL)\n",
    "print(\"Number of elements: \", len(permL))"
   ]
  },
  {
   "cell_type": "markdown",
   "metadata": {},
   "source": [
    "`itertools.groupby`"
   ]
  },
  {
   "cell_type": "markdown",
   "metadata": {},
   "source": [
    "`groupby()` collects all the consecutive elements from the underlying iterable that have the same key value, and returns a stream of 2-tuples containing a key value and an iterator for the elements with that key."
   ]
  },
  {
   "cell_type": "code",
   "execution_count": null,
   "metadata": {},
   "outputs": [],
   "source": [
    "ukCities = [('Edinburg', 'Scotland'), ('London', 'England'), ('Cardiff', 'Wales'),\n",
    "             ('Dublin', 'Ireland'), ('Belfast', 'Northern Ireland'), ('Glasgow', 'Scotland'), \n",
    "              ('Liverpool', 'England'), ('York', 'England'), ('Bath', 'England'), ('Perth', 'Scotland'),\n",
    "              ('Swansea', 'Wales'), ('Cork', 'Ireland'), ('Galway', 'Ireland'), ('Londonderry', 'Northern Ireland')]\n",
    "\n",
    "def get_country(myList):\n",
    "    return myList[1]\n",
    "\n",
    "data = sorted(ukCities, key=lambda x: x[1])\n",
    "\n",
    "itg = itertools.groupby(data, get_country)\n",
    "\n",
    "for i in itg:\n",
    "    print(\"Country: \", i[0], type(i[1]))\n",
    "    for j in i[1]:\n",
    "        print(j[0])\n",
    "    print(\"*******\")"
   ]
  },
  {
   "cell_type": "markdown",
   "metadata": {},
   "source": [
    "## Decorators"
   ]
  },
  {
   "cell_type": "markdown",
   "metadata": {},
   "source": [
    "We have seen how to define functions on functions. We now move on, for the final part of this session,  how to modify (or  `decorate`) functions."
   ]
  },
  {
   "cell_type": "code",
   "execution_count": null,
   "metadata": {},
   "outputs": [],
   "source": [
    "def decor(f):\n",
    "    def wrapper():\n",
    "        print(\"***Something to do before the function is called***\")\n",
    "        f()\n",
    "        print(\"***Something to do after the function is called***\")\n",
    "    return wrapper\n",
    "\n",
    "def myComment():\n",
    "    print(\"My lecturer is amazing\")\n",
    "\n",
    "print(myComment)\n",
    "myComment = decor(myComment)"
   ]
  },
  {
   "cell_type": "code",
   "execution_count": null,
   "metadata": {},
   "outputs": [],
   "source": [
    "myComment()"
   ]
  },
  {
   "cell_type": "markdown",
   "metadata": {},
   "source": [
    "The function `myComment` now refers to the decorator instead of the function itself, indeed:"
   ]
  },
  {
   "cell_type": "code",
   "execution_count": null,
   "metadata": {},
   "outputs": [],
   "source": [
    "myComment"
   ]
  },
  {
   "cell_type": "markdown",
   "metadata": {},
   "source": [
    "## The `pie` syntax\n",
    "\n",
    "How to avoid repeating the function name too many times."
   ]
  },
  {
   "cell_type": "code",
   "execution_count": null,
   "metadata": {},
   "outputs": [],
   "source": [
    "def decor(f):\n",
    "    def wrapper():\n",
    "        print(\"***Something to do before the function is called***\")\n",
    "        f()\n",
    "        print(\"***Something to do after the function is called***\")\n",
    "    return wrapper\n",
    "\n",
    "@decor\n",
    "def myComment():\n",
    "    print(\"My lecturer is amazing\")"
   ]
  },
  {
   "cell_type": "code",
   "execution_count": null,
   "metadata": {},
   "outputs": [],
   "source": [
    "myComment()"
   ]
  },
  {
   "cell_type": "markdown",
   "metadata": {},
   "source": [
    "## Decorating functions with arguments"
   ]
  },
  {
   "cell_type": "code",
   "execution_count": null,
   "metadata": {},
   "outputs": [],
   "source": [
    "def decor(f):\n",
    "    def wrapper():\n",
    "        print(\"***Something to do before the function is called***\")\n",
    "        f()\n",
    "        print(\"***Something to do after the function is called***\")\n",
    "    return wrapper\n",
    "\n",
    "@decor\n",
    "def callOptionType(S, K):\n",
    "    if S<K:\n",
    "        msg = \"The Call option is out of the money\"\n",
    "    elif S>K:\n",
    "        msg = \"The Call option is in the money\"\n",
    "    else:\n",
    "        msg = \"The Call option is at the money\"\n",
    "    print(msg)\n",
    "    payoff = np.maximum(S-K, 0.)\n",
    "    return payoff\n",
    "        \n",
    "callOptionType(100, 90)"
   ]
  },
  {
   "cell_type": "code",
   "execution_count": null,
   "metadata": {},
   "outputs": [],
   "source": [
    "def decor(f):\n",
    "    def wrapper(*args):\n",
    "        print(\"***Something to do before the function is called***\")\n",
    "        f(*args)\n",
    "        print(\"***Something to do after the function is called***\")\n",
    "    return wrapper\n",
    "\n",
    "@decor\n",
    "def callOptionType(S, K):\n",
    "    if S<K:\n",
    "        msg = \"The Call option is out of the money\"\n",
    "    elif S>K:\n",
    "        msg = \"The Call option is in the money\"\n",
    "    else:\n",
    "        msg = \"The Call option is at the money\"\n",
    "    print(msg)\n",
    "    payoff = np.maximum(S-K, 0.)\n",
    "    return payoff\n",
    "        \n",
    "callOptionType(100., 90.)"
   ]
  },
  {
   "cell_type": "markdown",
   "metadata": {},
   "source": [
    "Note however that the wrapper inside the decorator does not return anything. \n",
    "The decorator did not return the value of the `callOptionType` function. We need to make sure the wrapper function returns the value of the decorated function."
   ]
  },
  {
   "cell_type": "code",
   "execution_count": null,
   "metadata": {},
   "outputs": [],
   "source": [
    "def decor(f):\n",
    "    def wrapper(*args):\n",
    "        print(\"***Something to do before the function is called***\")\n",
    "        f(*args)\n",
    "        print(\"***Something to do after the function is called***\")\n",
    "        return f(*args)\n",
    "    return wrapper\n",
    "\n",
    "@decor\n",
    "def callOptionType(S, K):\n",
    "    if S<K:\n",
    "        msg = \"The Call option is out of the money\"\n",
    "    elif S>K:\n",
    "        msg = \"The Call option is in the money\"\n",
    "    else:\n",
    "        msg = \"The Call option is at the money\"\n",
    "    print(msg)\n",
    "    payoff = np.maximum(S-K, 0.)\n",
    "    return payoff\n",
    "        \n",
    "callOptionType(100, 90)"
   ]
  },
  {
   "cell_type": "markdown",
   "metadata": {},
   "source": [
    "## Introspection?"
   ]
  },
  {
   "cell_type": "markdown",
   "metadata": {},
   "source": [
    "What is `callOptionType`?"
   ]
  },
  {
   "cell_type": "code",
   "execution_count": null,
   "metadata": {},
   "outputs": [],
   "source": [
    "callOptionType"
   ]
  },
  {
   "cell_type": "code",
   "execution_count": null,
   "metadata": {},
   "outputs": [],
   "source": [
    "callOptionType.__name__"
   ]
  },
  {
   "cell_type": "code",
   "execution_count": null,
   "metadata": {},
   "outputs": [],
   "source": [
    "help(callOptionType)"
   ]
  },
  {
   "cell_type": "code",
   "execution_count": null,
   "metadata": {},
   "outputs": [],
   "source": [
    "import functools\n",
    "def decor(f):\n",
    "    @functools.wraps(f)\n",
    "    def wrapper(*args):\n",
    "        print(\"***Something to do before the function is called***\")\n",
    "        f(*args)\n",
    "        print(\"***Something to do after the function is called***\")\n",
    "        return f(*args)\n",
    "    return wrapper\n",
    "\n",
    "@decor\n",
    "def callOptionType(S, K):\n",
    "    if S<K:\n",
    "        msg = \"The Call option is out of the money\"\n",
    "    elif S>K:\n",
    "        msg = \"The Call option is in the money\"\n",
    "    else:\n",
    "        msg = \"The Call option is at the money\"\n",
    "    print(msg)\n",
    "    payoff = np.maximum(S-K, 0.)\n",
    "    return payoff\n",
    "        \n",
    "callOptionType(100, 90)"
   ]
  },
  {
   "cell_type": "code",
   "execution_count": null,
   "metadata": {},
   "outputs": [],
   "source": [
    "callOptionType"
   ]
  },
  {
   "cell_type": "code",
   "execution_count": null,
   "metadata": {},
   "outputs": [],
   "source": [
    "callOptionType.__name__"
   ]
  },
  {
   "cell_type": "code",
   "execution_count": null,
   "metadata": {},
   "outputs": [],
   "source": [
    "help(callOptionType)"
   ]
  },
  {
   "cell_type": "markdown",
   "metadata": {},
   "source": [
    "# Conclusion"
   ]
  },
  {
   "cell_type": "markdown",
   "metadata": {},
   "source": [
    "Functional Programming can be very useful, but Python is not a pure FP programming language (like Haskell). It is in fact a multi-paradigm language, and FP should be used with parsimony, not religiously."
   ]
  }
 ],
 "metadata": {
  "kernelspec": {
   "display_name": "Python 3 (ipykernel)",
   "language": "python",
   "name": "python3"
  },
  "language_info": {
   "codemirror_mode": {
    "name": "ipython",
    "version": 3
   },
   "file_extension": ".py",
   "mimetype": "text/x-python",
   "name": "python",
   "nbconvert_exporter": "python",
   "pygments_lexer": "ipython3",
   "version": "3.9.7"
  },
  "latex_envs": {
   "LaTeX_envs_menu_present": true,
   "autoclose": false,
   "autocomplete": true,
   "bibliofile": "biblio.bib",
   "cite_by": "apalike",
   "current_citInitial": 1,
   "eqLabelWithNumbers": true,
   "eqNumInitial": 1,
   "hotkeys": {
    "equation": "Ctrl-E",
    "itemize": "Ctrl-I"
   },
   "labels_anchors": false,
   "latex_user_defs": false,
   "report_style_numbering": false,
   "user_envs_cfg": false
  },
  "toc": {
   "base_numbering": 1,
   "nav_menu": {
    "height": "358px",
    "width": "666px"
   },
   "number_sections": true,
   "sideBar": true,
   "skip_h1_title": true,
   "title_cell": "Table of Contents",
   "title_sidebar": "Contents",
   "toc_cell": true,
   "toc_position": {},
   "toc_section_display": true,
   "toc_window_display": true
  }
 },
 "nbformat": 4,
 "nbformat_minor": 4
}
